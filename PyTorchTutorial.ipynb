{
  "cells": [
    {
      "cell_type": "markdown",
      "metadata": {
        "id": "view-in-github",
        "colab_type": "text"
      },
      "source": [
        "<a href=\"https://colab.research.google.com/github/Hackley-STEM-Club/PyTorchTutorial/blob/main/PyTorchTutorial.ipynb\" target=\"_parent\"><img src=\"https://colab.research.google.com/assets/colab-badge.svg\" alt=\"Open In Colab\"/></a>"
      ]
    },
    {
      "cell_type": "code",
      "execution_count": 52,
      "metadata": {
        "colab": {
          "base_uri": "https://localhost:8080/"
        },
        "id": "teE7THS26HfK",
        "outputId": "f2b47010-6855-41c9-fcc5-5862ac4f1c7f"
      },
      "outputs": [
        {
          "output_type": "stream",
          "name": "stdout",
          "text": [
            "cuda\n"
          ]
        }
      ],
      "source": [
        "import torch\n",
        "import torchvision\n",
        "from torchvision import transforms, datasets\n",
        "\n",
        "\n",
        "device = torch.device(\"cuda\") if torch.cuda.is_available() else torch.device(\"cpu\")\n",
        "print(device)"
      ]
    },
    {
      "cell_type": "code",
      "execution_count": 27,
      "metadata": {
        "id": "v2TKRsim6HfM"
      },
      "outputs": [],
      "source": [
        "train = datasets.MNIST(\"\",train=True,download=True, \n",
        "                       transform = transforms.Compose([transforms.ToTensor()]))\n",
        "\n",
        "\n",
        "test = datasets.MNIST(\"\",train=False,download=True, \n",
        "                       transform = transforms.Compose([transforms.ToTensor()]))\n",
        "\n"
      ]
    },
    {
      "cell_type": "code",
      "execution_count": 28,
      "metadata": {
        "id": "unhQzJNV6HfN"
      },
      "outputs": [],
      "source": [
        "trainset = torch.utils.data.DataLoader(train,batch_size = 16,shuffle = True)\n",
        "\n",
        "\n",
        "testset = torch.utils.data.DataLoader(test,batch_size = 16,shuffle = True)"
      ]
    },
    {
      "cell_type": "code",
      "execution_count": 29,
      "metadata": {
        "id": "HVgdzIqi6HfN"
      },
      "outputs": [],
      "source": [
        "import torch.nn as nn \n",
        "import torch.nn.functional as F"
      ]
    },
    {
      "cell_type": "code",
      "execution_count": 51,
      "metadata": {
        "colab": {
          "base_uri": "https://localhost:8080/"
        },
        "id": "Y4A_DVSo6HfR",
        "outputId": "f06624e1-dbae-45de-b2be-14abb09e0f92"
      },
      "outputs": [
        {
          "output_type": "stream",
          "name": "stdout",
          "text": [
            "{0: 398, 1: 385, 2: 377, 3: 407, 4: 389, 5: 345, 6: 358, 7: 389, 8: 342, 9: 360}\n"
          ]
        }
      ],
      "source": [
        "amount_of_number = {0:0,1:0,2:0,3:0,4:0,5:0,6:0,7:0,8:0,9:0}\n",
        "for data in trainset:\n",
        "        X, y = data\n",
        "        amount_of_number[y[0].item()] += 1  \n",
        "print(amount_of_number)"
      ]
    },
    {
      "cell_type": "code",
      "execution_count": 30,
      "metadata": {
        "id": "EfzTUASi6HfO"
      },
      "outputs": [],
      "source": [
        "\n",
        "class Net(nn.Module):\n",
        "    def __init__(self):\n",
        "        super().__init__() # inherit modules from nn.Module\n",
        "        # images are 28*28,(FC1) fully connected first layer\n",
        "        self.fc1 = nn.Linear(28*28, 32)\n",
        "        self.fc2 = nn.Linear(32, 32) #the amount of layers that we make is arbitrary\n",
        "        self.fc3 = nn.Linear(32, 10)\n",
        "  \n",
        "\n",
        "\n",
        "    def forward(self,x):\n",
        "        x = F.relu(self.fc1(x))\n",
        "        x = F.relu(self.fc2(x))\n",
        "        x = self.fc3(x)  \n",
        "\n",
        "        return F.log_softmax(x,dim=1)\n",
        "\n",
        "net = Net().to(device)\n"
      ]
    },
    {
      "cell_type": "code",
      "execution_count": 41,
      "metadata": {
        "id": "GsN5EaJq6HfO"
      },
      "outputs": [],
      "source": [
        "import torch.optim as optim\n",
        "import matplotlib.pyplot as plt\n",
        "\n",
        "\n",
        "optimizer = optim.Adam(net.parameters(), lr = .001)\n",
        "\n",
        "\n",
        "# how many times we pass the traindata through the network\n",
        "EPOCHS = 1\n",
        "\n",
        "\n",
        "#train the neural network \n",
        "for epoch in range(EPOCHS):\n",
        "  for i, data in enumerate(trainset):\n",
        "      X, y = data # data stores a tensor of both the image and label\n",
        "\n",
        "      net.zero_grad()\n",
        "\n",
        "      output = net(X.view(-1,28*28).to(device))\n",
        "      loss = F.nll_loss(output,y.to(device)) # compare the output to the label of number \n",
        "      loss.backward()\n",
        "      optimizer.step()\n",
        "\n",
        "        \n",
        "\n"
      ]
    },
    {
      "cell_type": "code",
      "execution_count": 42,
      "metadata": {
        "colab": {
          "base_uri": "https://localhost:8080/"
        },
        "id": "w9kYu2bK6HfP",
        "outputId": "ce70e33d-2bff-405b-ffbd-c86a502c9f9d"
      },
      "outputs": [
        {
          "output_type": "stream",
          "name": "stdout",
          "text": [
            "Accuracy:  96.5\n"
          ]
        }
      ],
      "source": [
        "correct = 0\n",
        "total = 0\n",
        "\n",
        "# testing the neural net without performing gradient descent (changing the parameters)\n",
        "with torch.no_grad():\n",
        "    for data in testset:\n",
        "        X, y = data\n",
        "        \n",
        "        output = net(X.view(-1,28*28).to(device))\n",
        "        #does prediction match target valuewsed\n",
        "        for idx, i in enumerate(output): \n",
        "            if torch.argmax(i) == y[idx].to(device):\n",
        "                correct +=1\n",
        "            total += 1\n",
        "\n",
        "        \n",
        "    print(\"Accuracy: \", round(correct/total,3)*100) # print correctness\n"
      ]
    },
    {
      "cell_type": "markdown",
      "metadata": {
        "id": "7TGgsMni6HfP"
      },
      "source": []
    },
    {
      "cell_type": "code",
      "execution_count": 50,
      "metadata": {
        "colab": {
          "base_uri": "https://localhost:8080/",
          "height": 301
        },
        "id": "ox3lj07o6HfQ",
        "outputId": "a647624b-af0d-4db7-bdb0-196ed8b6490c"
      },
      "outputs": [
        {
          "output_type": "display_data",
          "data": {
            "text/plain": [
              "<Figure size 432x288 with 1 Axes>"
            ],
            "image/png": "[encoded data removed]"
          },
          "metadata": {
            "needs_background": "light"
          }
        },
        {
          "output_type": "stream",
          "name": "stdout",
          "text": [
            "Neural network's guess:  0\n",
            "Actual:  0\n"
          ]
        }
      ],
      "source": [
        "import matplotlib.pyplot as plt \n",
        "test_a_number = 13 # value must be from 0-15, as our batch-size was sixteen\n",
        "plt.imshow(X[test_a_number].view(28,28))\n",
        "plt.show()\n",
        "\n",
        "print(\"Neural network's guess: \", torch.argmax(net(X[test_a_number].view(1,28*28).to(device))).item())\n",
        "print(\"Actual: \", y[test_a_number].item())"
      ]
    }
  ],
  "metadata": {
    "interpreter": {
      "hash": "aee8b7b246df8f9039afb4144a1f6fd8d2ca17a180786b69acc140d282b71a49"
    },
    "kernelspec": {
      "display_name": "Python 3.10.4 64-bit",
      "language": "python",
      "name": "python3"
    },
    "language_info": {
      "codemirror_mode": {
        "name": "ipython",
        "version": 3
      },
      "file_extension": ".py",
      "mimetype": "text/x-python",
      "name": "python",
      "nbconvert_exporter": "python",
      "pygments_lexer": "ipython3",
      "version": "3.10.4"
    },
    "orig_nbformat": 4,
    "colab": {
      "provenance": [],
      "collapsed_sections": [],
      "include_colab_link": true
    },
    "gpuClass": "standard",
    "accelerator": "GPU"
  },
  "nbformat": 4,
  "nbformat_minor": 0
}
