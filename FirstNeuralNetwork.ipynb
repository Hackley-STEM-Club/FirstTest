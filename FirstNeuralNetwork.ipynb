{
 "cells": [
  {
   "cell_type": "code",
   "execution_count": 19,
   "metadata": {},
   "outputs": [],
   "source": [
    "import torch\n",
    "import torchvision\n",
    "from torchvision import transforms, datasets"
   ]
  },
  {
   "cell_type": "code",
   "execution_count": 20,
   "metadata": {},
   "outputs": [],
   "source": [
    "train = datasets.MNIST(\"\",train=True,download=True, \n",
    "                       transform = transforms.Compose([transforms.ToTensor()]))\n",
    "\n",
    "\n",
    "test = datasets.MNIST(\"\",train=False,download=True, \n",
    "                       transform = transforms.Compose([transforms.ToTensor()]))"
   ]
  },
  {
   "cell_type": "code",
   "execution_count": 21,
   "metadata": {},
   "outputs": [],
   "source": [
    "trainset = torch.utils.data.DataLoader(train,batch_size = 10,shuffle = True)\n",
    "testset = torch.utils.data.DataLoader(test,batch_size = 10,shuffle = True)"
   ]
  },
  {
   "cell_type": "code",
   "execution_count": 22,
   "metadata": {},
   "outputs": [
    {
     "name": "stdout",
     "output_type": "stream",
     "text": [
      "{0: 582, 1: 660, 2: 598, 3: 617, 4: 593, 5: 556, 6: 636, 7: 598, 8: 565, 9: 595}\n"
     ]
    }
   ],
   "source": [
    "amount_of_number = {0:0,1:0,2:0,3:0,4:0,5:0,6:0,7:0,8:0,9:0}\n",
    "for data in trainset:\n",
    "        X, y = data\n",
    "        amount_of_number[y[0].item()] += 1  \n",
    "print(amount_of_number)"
   ]
  },
  {
   "cell_type": "code",
   "execution_count": 23,
   "metadata": {},
   "outputs": [],
   "source": [
    "import torch.nn as nn \n",
    "import torch.nn.functional as F"
   ]
  },
  {
   "cell_type": "code",
   "execution_count": 24,
   "metadata": {},
   "outputs": [],
   "source": [
    "\n",
    "class Net(nn.Module):\n",
    "    def __init__(self):\n",
    "        super().__init__() # inherit modules from nn.Module\n",
    "        # images are 28*28,(FC) fully connected layer\n",
    "        self.fc1 = nn.Linear(28*28, 64)\n",
    "        self.fc2 = nn.Linear(64, 64) # the amount of layers we make is arbitrary\n",
    "        self.fc3 = nn.Linear(64, 64)\n",
    "        self.fc4 = nn.Linear(64, 10) # output layer (0-9) 10 number possibilities\n",
    "\n",
    "    def forward(self,x):\n",
    "        # before each of the neurons passes the weighted sum minus the bias, we pass it through an activation function\n",
    "        x = F.relu(self.fc1(x))\n",
    "        x = F.relu(self.fc2(x))\n",
    "        x = F.relu(self.fc3(x))\n",
    "        x = self.fc4(x)\n",
    "\n",
    "        return F.log_softmax(x,dim=1) # that last list of activations (guesses) of the last layer of network\n",
    "\n",
    "net = Net()"
   ]
  },
  {
   "cell_type": "code",
   "execution_count": 25,
   "metadata": {},
   "outputs": [
    {
     "name": "stdout",
     "output_type": "stream",
     "text": [
      "tensor(0.1039, grad_fn=<NllLossBackward0>)\n",
      "tensor(0.0556, grad_fn=<NllLossBackward0>)\n",
      "tensor(0.1891, grad_fn=<NllLossBackward0>)\n"
     ]
    }
   ],
   "source": [
    "import torch.optim as optim\n",
    "\n",
    "optimizer = optim.Adam(net.parameters(), lr = .001) # mathematically-fancy form of gradient descent\n",
    "\n",
    "\n",
    "# how many times we pass the traindata through the network\n",
    "EPOCHS = 3\n",
    "\n",
    "for epoch in range(EPOCHS):\n",
    "    for data in trainset:\n",
    "        X, y = data # data stores a tensor (array) of both the image and label\n",
    "        net.zero_grad()\n",
    "        output = net(X.view(-1,28*28)) \n",
    "        loss = F.nll_loss(output,y) # a type of loss function\n",
    "        loss.backward() # performs gradient descent on the parameters\n",
    "        optimizer.step() #\n",
    "    print(loss)\n",
    "\n"
   ]
  },
  {
   "cell_type": "code",
   "execution_count": 26,
   "metadata": {},
   "outputs": [
    {
     "name": "stdout",
     "output_type": "stream",
     "text": [
      "Accuracy:  96.8\n"
     ]
    }
   ],
   "source": [
    "correct = 0\n",
    "total = 0\n",
    "\n",
    "# testing the neural net without performing gradient descent (changing the parameters)\n",
    "with torch.no_grad():\n",
    "    for data in testset:\n",
    "        X, y = data\n",
    "        output = net(X.view(-1,28*28))\n",
    "        #does the prediction match actual value\n",
    "        for idx, i in enumerate(output): \n",
    "            if torch.argmax(i) == y[idx]:\n",
    "                correct +=1\n",
    "            total += 1\n",
    "\n",
    "        \n",
    "    print(\"Accuracy: \", round(correct/total,3)*100) # print correctness"
   ]
  },
  {
   "cell_type": "code",
   "execution_count": 27,
   "metadata": {},
   "outputs": [
    {
     "data": {
      "image/png": "[encoded data removed]",
      "text/plain": [
       "<Figure size 432x288 with 1 Axes>"
      ]
     },
     "metadata": {
      "needs_background": "light"
     },
     "output_type": "display_data"
    },
    {
     "name": "stdout",
     "output_type": "stream",
     "text": [
      "Neural network's guess:  7\n",
      "Actual:  7\n"
     ]
    }
   ],
   "source": [
    "import matplotlib.pyplot as plt \n",
    "test_a_number = 3 # value must be from 0-9, as our batch-size was ten\n",
    "plt.imshow(X[test_a_number].view(28,28))\n",
    "plt.show()\n",
    "\n",
    "print(\"Neural network's guess: \", torch.argmax(net(X[test_a_number].view(1,28*28))).item())\n",
    "print(\"Actual: \", y[test_a_number].item())\n"
   ]
  },
  {
   "cell_type": "code",
   "execution_count": null,
   "metadata": {},
   "outputs": [],
   "source": []
  }
 ],
 "metadata": {
  "interpreter": {
   "hash": "aee8b7b246df8f9039afb4144a1f6fd8d2ca17a180786b69acc140d282b71a49"
  },
  "kernelspec": {
   "display_name": "Python 3.10.4 64-bit",
   "language": "python",
   "name": "python3"
  },
  "language_info": {
   "codemirror_mode": {
    "name": "ipython",
    "version": 3
   },
   "file_extension": ".py",
   "mimetype": "text/x-python",
   "name": "python",
   "nbconvert_exporter": "python",
   "pygments_lexer": "ipython3",
   "version": "3.10.4"
  },
  "orig_nbformat": 4
 },
 "nbformat": 4,
 "nbformat_minor": 2
}
